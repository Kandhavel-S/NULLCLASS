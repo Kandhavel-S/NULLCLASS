{
 "cells": [
  {
   "cell_type": "code",
   "execution_count": 1,
   "metadata": {},
   "outputs": [],
   "source": [
    "import os\n",
    "import cv2\n",
    "import numpy as np\n",
    "import tensorflow as tf\n",
    "from tensorflow.keras.models import Sequential\n",
    "from tensorflow.keras.layers import Conv2D, MaxPooling2D, Flatten, Dense\n",
    "from tensorflow.keras.utils import to_categorical\n",
    "from sklearn.model_selection import train_test_split\n",
    "from sklearn.preprocessing import LabelEncoder"
   ]
  },
  {
   "cell_type": "code",
   "execution_count": 2,
   "metadata": {},
   "outputs": [],
   "source": [
    "dataset_path = r'C:\\Users\\Dell\\Desktop\\MANI\\ndp\\fer-2013'\n",
    " "
   ]
  },
  {
   "cell_type": "code",
   "execution_count": 3,
   "metadata": {},
   "outputs": [],
   "source": [
    "emotions = ['angry', 'disgust', 'fear', 'happy', 'sad', 'surprise', 'neutral']\n"
   ]
  },
  {
   "cell_type": "code",
   "execution_count": 4,
   "metadata": {},
   "outputs": [],
   "source": [
    "def load_images_from_folder(dataset_path):\n",
    "    images = []\n",
    "    labels = []\n",
    "    \n",
    "    for filename in os.listdir(dataset_path):\n",
    "        if filename.endswith(\".jpg\"):\n",
    "            emotion = filename.split('_')[0]  # Extract emotion from the filename\n",
    "            if emotion in emotions:  # Check if the emotion is in the predefined list\n",
    "                img_path = os.path.join(dataset_path, filename)\n",
    "                img = cv2.imread(img_path, cv2.IMREAD_GRAYSCALE)  # Read image in grayscale\n",
    "                img = cv2.resize(img, (48, 48))  # Resize to 48x48\n",
    "                img = img.astype('float32') / 255.0  # Normalize the image to [0, 1]\n",
    "                \n",
    "                images.append(img)\n",
    "                labels.append(emotion)\n",
    "    \n",
    "    images = np.array(images)\n",
    "    labels = np.array(labels)\n",
    "    return images, labels"
   ]
  },
  {
   "cell_type": "code",
   "execution_count": 5,
   "metadata": {},
   "outputs": [],
   "source": [
    "images, labels = load_images_from_folder(dataset_path)\n"
   ]
  },
  {
   "cell_type": "code",
   "execution_count": 6,
   "metadata": {},
   "outputs": [],
   "source": [
    "label_encoder = LabelEncoder()\n",
    "labels_encoded = label_encoder.fit_transform(labels)\n",
    "\n",
    "# One-hot encode the labels\n",
    "labels_one_hot = to_categorical(labels_encoded, num_classes=len(emotions))\n",
    "\n",
    "# Expand dimensions of images to match the expected input shape (48, 48, 1)\n",
    "images = np.expand_dims(images, axis=-1)\n"
   ]
  },
  {
   "cell_type": "code",
   "execution_count": 7,
   "metadata": {},
   "outputs": [],
   "source": [
    "X_train, X_val, y_train, y_val = train_test_split(images, labels_one_hot, test_size=0.2, random_state=42)\n"
   ]
  },
  {
   "cell_type": "code",
   "execution_count": 8,
   "metadata": {},
   "outputs": [],
   "source": [
    "def build_emotion_model():\n",
    "    model = Sequential()\n",
    "    model.add(Conv2D(32, (3, 3), activation='relu', input_shape=(48, 48, 1)))\n",
    "    model.add(MaxPooling2D((2, 2)))\n",
    "    model.add(Conv2D(64, (3, 3), activation='relu'))\n",
    "    model.add(MaxPooling2D((2, 2)))\n",
    "    model.add(Conv2D(128, (3, 3), activation='relu'))\n",
    "    model.add(MaxPooling2D((2, 2)))\n",
    "    model.add(Flatten())\n",
    "    model.add(Dense(128, activation='relu'))\n",
    "    model.add(Dense(len(emotions), activation='softmax'))  # 7 emotions as output\n",
    "    model.compile(optimizer='adam', loss='categorical_crossentropy', metrics=['accuracy'])\n",
    "    return model"
   ]
  },
  {
   "cell_type": "code",
   "execution_count": 9,
   "metadata": {},
   "outputs": [
    {
     "name": "stderr",
     "output_type": "stream",
     "text": [
      "C:\\Users\\Dell\\AppData\\Local\\Packages\\PythonSoftwareFoundation.Python.3.11_qbz5n2kfra8p0\\LocalCache\\local-packages\\Python311\\site-packages\\keras\\src\\layers\\convolutional\\base_conv.py:107: UserWarning: Do not pass an `input_shape`/`input_dim` argument to a layer. When using Sequential models, prefer using an `Input(shape)` object as the first layer in the model instead.\n",
      "  super().__init__(activity_regularizer=activity_regularizer, **kwargs)\n"
     ]
    }
   ],
   "source": [
    "emotion_model = build_emotion_model()\n"
   ]
  },
  {
   "cell_type": "code",
   "execution_count": 10,
   "metadata": {},
   "outputs": [
    {
     "name": "stdout",
     "output_type": "stream",
     "text": [
      "Epoch 1/10\n",
      "\u001b[1m692/692\u001b[0m \u001b[32m━━━━━━━━━━━━━━━━━━━━\u001b[0m\u001b[37m\u001b[0m \u001b[1m22s\u001b[0m 29ms/step - accuracy: 0.2802 - loss: 1.7704 - val_accuracy: 0.3989 - val_loss: 1.5329\n",
      "Epoch 2/10\n",
      "\u001b[1m692/692\u001b[0m \u001b[32m━━━━━━━━━━━━━━━━━━━━\u001b[0m\u001b[37m\u001b[0m \u001b[1m21s\u001b[0m 30ms/step - accuracy: 0.4449 - loss: 1.4536 - val_accuracy: 0.4851 - val_loss: 1.3456\n",
      "Epoch 3/10\n",
      "\u001b[1m692/692\u001b[0m \u001b[32m━━━━━━━━━━━━━━━━━━━━\u001b[0m\u001b[37m\u001b[0m \u001b[1m20s\u001b[0m 29ms/step - accuracy: 0.5097 - loss: 1.2945 - val_accuracy: 0.4927 - val_loss: 1.3219\n",
      "Epoch 4/10\n",
      "\u001b[1m692/692\u001b[0m \u001b[32m━━━━━━━━━━━━━━━━━━━━\u001b[0m\u001b[37m\u001b[0m \u001b[1m20s\u001b[0m 29ms/step - accuracy: 0.5524 - loss: 1.1968 - val_accuracy: 0.5268 - val_loss: 1.2511\n",
      "Epoch 5/10\n",
      "\u001b[1m692/692\u001b[0m \u001b[32m━━━━━━━━━━━━━━━━━━━━\u001b[0m\u001b[37m\u001b[0m \u001b[1m20s\u001b[0m 29ms/step - accuracy: 0.5841 - loss: 1.1077 - val_accuracy: 0.5335 - val_loss: 1.2283\n",
      "Epoch 6/10\n",
      "\u001b[1m692/692\u001b[0m \u001b[32m━━━━━━━━━━━━━━━━━━━━\u001b[0m\u001b[37m\u001b[0m \u001b[1m21s\u001b[0m 30ms/step - accuracy: 0.6024 - loss: 1.0578 - val_accuracy: 0.5342 - val_loss: 1.2249\n",
      "Epoch 7/10\n",
      "\u001b[1m692/692\u001b[0m \u001b[32m━━━━━━━━━━━━━━━━━━━━\u001b[0m\u001b[37m\u001b[0m \u001b[1m20s\u001b[0m 29ms/step - accuracy: 0.6352 - loss: 0.9802 - val_accuracy: 0.5346 - val_loss: 1.2586\n",
      "Epoch 8/10\n",
      "\u001b[1m692/692\u001b[0m \u001b[32m━━━━━━━━━━━━━━━━━━━━\u001b[0m\u001b[37m\u001b[0m \u001b[1m20s\u001b[0m 29ms/step - accuracy: 0.6681 - loss: 0.8936 - val_accuracy: 0.5525 - val_loss: 1.2331\n",
      "Epoch 9/10\n",
      "\u001b[1m692/692\u001b[0m \u001b[32m━━━━━━━━━━━━━━━━━━━━\u001b[0m\u001b[37m\u001b[0m \u001b[1m20s\u001b[0m 29ms/step - accuracy: 0.6921 - loss: 0.8261 - val_accuracy: 0.5427 - val_loss: 1.2777\n",
      "Epoch 10/10\n",
      "\u001b[1m692/692\u001b[0m \u001b[32m━━━━━━━━━━━━━━━━━━━━\u001b[0m\u001b[37m\u001b[0m \u001b[1m20s\u001b[0m 29ms/step - accuracy: 0.7192 - loss: 0.7533 - val_accuracy: 0.5440 - val_loss: 1.3249\n"
     ]
    },
    {
     "data": {
      "text/plain": [
       "<keras.src.callbacks.history.History at 0x1ab8df7fd50>"
      ]
     },
     "execution_count": 10,
     "metadata": {},
     "output_type": "execute_result"
    }
   ],
   "source": [
    "emotion_model.fit(X_train, y_train, epochs=10, batch_size=32, validation_data=(X_val, y_val))\n"
   ]
  },
  {
   "cell_type": "code",
   "execution_count": 11,
   "metadata": {},
   "outputs": [
    {
     "name": "stdout",
     "output_type": "stream",
     "text": [
      "\u001b[1m173/173\u001b[0m \u001b[32m━━━━━━━━━━━━━━━━━━━━\u001b[0m\u001b[37m\u001b[0m \u001b[1m2s\u001b[0m 9ms/step - accuracy: 0.5496 - loss: 1.3001\n",
      "Validation Accuracy: 54.40%\n"
     ]
    }
   ],
   "source": [
    "loss, accuracy = emotion_model.evaluate(X_val, y_val)\n",
    "print(f\"Validation Accuracy: {accuracy*100:.2f}%\")\n"
   ]
  },
  {
   "cell_type": "code",
   "execution_count": 12,
   "metadata": {},
   "outputs": [
    {
     "name": "stderr",
     "output_type": "stream",
     "text": [
      "WARNING:absl:You are saving your model as an HDF5 file via `model.save()` or `keras.saving.save_model(model)`. This file format is considered legacy. We recommend using instead the native Keras format, e.g. `model.save('my_model.keras')` or `keras.saving.save_model(model, 'my_model.keras')`. \n"
     ]
    }
   ],
   "source": [
    "emotion_model.save('trainingmodels/models/emotion_detection_model.h5')"
   ]
  },
  {
   "cell_type": "code",
   "execution_count": 24,
   "metadata": {},
   "outputs": [],
   "source": [
    "def predict_emotion_from_image(model, image_path):\n",
    "    # Load the image in grayscale\n",
    "    img = cv2.imread(image_path, cv2.IMREAD_GRAYSCALE)\n",
    "    \n",
    "    # Check if the image was loaded successfully\n",
    "    if img is None:\n",
    "        print(f\"Error: Unable to load image at {image_path}\")\n",
    "        return None  # Return None or an error message\n",
    "    \n",
    "    # Resize the image to 48x48 pixels\n",
    "    img = cv2.resize(img, (48, 48))\n",
    "    \n",
    "    # Normalize the image to [0, 1]\n",
    "    img = img.astype('float32') / 255.0\n",
    "    \n",
    "    # Expand dimensions to match the model input shape: (1, 48, 48, 1)\n",
    "    img = np.expand_dims(img, axis=-1)  # Add channel dimension\n",
    "    img = np.expand_dims(img, axis=0)  # Add batch dimension\n",
    "    \n",
    "    # Predict the emotion\n",
    "    predictions = model.predict(img)\n",
    "    \n",
    "    # Get the predicted class index\n",
    "    predicted_class = np.argmax(predictions)\n",
    "    \n",
    "    # Map the predicted class index back to the emotion label\n",
    "    emotion = label_encoder.inverse_transform([predicted_class])[0]\n",
    "    \n",
    "    return emotion\n",
    "\n",
    "# Example usage to predict emotion from an image\n"
   ]
  },
  {
   "cell_type": "code",
   "execution_count": 30,
   "metadata": {},
   "outputs": [
    {
     "name": "stdout",
     "output_type": "stream",
     "text": [
      "\u001b[1m1/1\u001b[0m \u001b[32m━━━━━━━━━━━━━━━━━━━━\u001b[0m\u001b[37m\u001b[0m \u001b[1m0s\u001b[0m 47ms/step\n",
      "The predicted emotion is: happy\n"
     ]
    }
   ],
   "source": [
    "test_image_path = r'C:\\Users\\Dell\\Downloads\\th (1).jpeg'  # Replace with your image path\n",
    "predicted_emotion = predict_emotion_from_image(emotion_model, test_image_path)\n",
    "print(f\"The predicted emotion is: {predicted_emotion}\")"
   ]
  }
 ],
 "metadata": {
  "kernelspec": {
   "display_name": "Python 3",
   "language": "python",
   "name": "python3"
  },
  "language_info": {
   "codemirror_mode": {
    "name": "ipython",
    "version": 3
   },
   "file_extension": ".py",
   "mimetype": "text/x-python",
   "name": "python",
   "nbconvert_exporter": "python",
   "pygments_lexer": "ipython3",
   "version": "3.11.9"
  }
 },
 "nbformat": 4,
 "nbformat_minor": 2
}
